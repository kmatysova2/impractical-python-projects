{
 "cells": [
  {
   "cell_type": "markdown",
   "metadata": {},
   "source": [
    "Silly Name Generator"
   ]
  },
  {
   "cell_type": "code",
   "execution_count": null,
   "metadata": {},
   "outputs": [],
   "source": [
    "import sys, random"
   ]
  },
  {
   "cell_type": "code",
   "execution_count": 2,
   "metadata": {},
   "outputs": [
    {
     "name": "stdout",
     "output_type": "stream",
     "text": [
      "Welcome to the Psych 'Sidekick Name Picker.'\n",
      "\n",
      "A name just like Sean would pick for Gus:\n",
      "\n",
      "\n"
     ]
    }
   ],
   "source": [
    "print(\"Welcome to the Psych 'Sidekick Name Picker.'\\n\")\n",
    "print(\"A name just like Sean would pick for Gus:\\n\\n\")"
   ]
  },
  {
   "cell_type": "code",
   "execution_count": 3,
   "metadata": {},
   "outputs": [],
   "source": [
    "first = ('Baby Oil', 'Bad News', 'Big Burps', 'Snakes', 'Burps')\n",
    "\n",
    "last = ('Appleyard', 'Bigmeat', 'Johnson', 'Kingfish', 'Whipkey')"
   ]
  },
  {
   "cell_type": "code",
   "execution_count": 5,
   "metadata": {},
   "outputs": [
    {
     "name": "stderr",
     "output_type": "stream",
     "text": [
      "Baby Oil Bigmeat\n"
     ]
    },
    {
     "name": "stdout",
     "output_type": "stream",
     "text": [
      "\n",
      "\n",
      "\n",
      "\n"
     ]
    },
    {
     "name": "stdin",
     "output_type": "stream",
     "text": [
      "\n",
      "Try again? (Press Enter else n to quit)\n",
      "  \n"
     ]
    },
    {
     "name": "stderr",
     "output_type": "stream",
     "text": [
      "Baby Oil Kingfish\n"
     ]
    },
    {
     "name": "stdout",
     "output_type": "stream",
     "text": [
      "\n",
      "\n",
      "\n",
      "\n"
     ]
    },
    {
     "name": "stdin",
     "output_type": "stream",
     "text": [
      "\n",
      "Try again? (Press Enter else n to quit)\n",
      "  \n"
     ]
    },
    {
     "name": "stderr",
     "output_type": "stream",
     "text": [
      "Baby Oil Appleyard\n"
     ]
    },
    {
     "name": "stdout",
     "output_type": "stream",
     "text": [
      "\n",
      "\n",
      "\n",
      "\n"
     ]
    },
    {
     "name": "stdin",
     "output_type": "stream",
     "text": [
      "\n",
      "Try again? (Press Enter else n to quit)\n",
      "  n\n",
      "\n",
      "Press Enter to exit. \n"
     ]
    },
    {
     "data": {
      "text/plain": [
       "''"
      ]
     },
     "execution_count": 5,
     "metadata": {},
     "output_type": "execute_result"
    }
   ],
   "source": [
    "while True:\n",
    "    firstName = random.choice(first)\n",
    "    \n",
    "    lastName = random.choice(last)\n",
    "    \n",
    "    print(\"\\n\")\n",
    "    print(f\"{firstName} {lastName}\", file = sys.stderr)\n",
    "    print(\"\\n\")\n",
    "    \n",
    "    try_again = input(\"\\nTry again? (Press Enter else n to quit)\\n \")\n",
    "    \n",
    "    if try_again.lower() == \"n\":\n",
    "        break\n",
    "        \n",
    "input(\"\\nPress Enter to exit.\")\n",
    "    "
   ]
  },
  {
   "cell_type": "code",
   "execution_count": null,
   "metadata": {},
   "outputs": [],
   "source": []
  }
 ],
 "metadata": {
  "kernelspec": {
   "display_name": "Python 3",
   "language": "python",
   "name": "python3"
  },
  "language_info": {
   "codemirror_mode": {
    "name": "ipython",
    "version": 3
   },
   "file_extension": ".py",
   "mimetype": "text/x-python",
   "name": "python",
   "nbconvert_exporter": "python",
   "pygments_lexer": "ipython3",
   "version": "3.8.3"
  }
 },
 "nbformat": 4,
 "nbformat_minor": 4
}
